{
 "cells": [
  {
   "cell_type": "markdown",
   "metadata": {
    "collapsed": true,
    "pycharm": {}
   },
   "source": [
    "# Output examples"
   ]
  },
  {
   "cell_type": "code",
   "execution_count": 1,
   "metadata": {
    "pycharm": {
     "is_executing": false
    }
   },
   "outputs": [],
   "source": [
    "from thin_mnist_slow import ThinMNIST\n",
    "import matplotlib.pyplot as plt\n",
    "import numpy as np\n",
    "\n",
    "path_to_mnist = 'data/mnist'\n"
   ]
  },
  {
   "cell_type": "markdown",
   "metadata": {
    "pycharm": {}
   },
   "source": [
    "## Example with default values"
   ]
  },
  {
   "cell_type": "code",
   "execution_count": 2,
   "metadata": {
    "pycharm": {
     "is_executing": false
    }
   },
   "outputs": [
    {
     "name": "stdout",
     "output_type": "stream",
     "text": [
      "Number of images:  60000 train\n",
      "Number of labels:  60000 train\n",
      "Number of images:  60000 train\n",
      "Number of labels:  60000 train\n"
     ]
    },
    {
     "data": {
      "image/png": "[encoded data removed]",
      "text/plain": [
       "<Figure size 432x288 with 1 Axes>"
      ]
     },
     "metadata": {
      "needs_background": "light"
     },
     "output_type": "display_data"
    },
    {
     "data": {
      "image/png": "[encoded data removed]",
      "text/plain": [
       "<Figure size 432x288 with 1 Axes>"
      ]
     },
     "metadata": {
      "needs_background": "light"
     },
     "output_type": "display_data"
    }
   ],
   "source": [
    "dataloader = ThinMNIST('train', path_to_mnist,out_channels=1)\n",
    "dataloader_original = ThinMNIST('train', path_to_mnist, out_channels=1,erosion_ratio=0, add_skeleton=False)\n",
    "\n",
    "x_all = []\n",
    "x_all_original = []\n",
    "for i in [1, 3, 5, 7, 2, 0, 13, 15, 17, 4]:\n",
    "    x_all.append(dataloader[i][0].numpy().squeeze())\n",
    "    x_all_original.append(dataloader_original[i][0].numpy().squeeze())\n",
    "x_all = np.hstack(x_all)\n",
    "x_all_original = np.hstack(x_all_original)\n",
    "\n",
    "\n",
    "plt.imshow(x_all, cmap='gray')\n",
    "plt.title('Thin')\n",
    "plt.show()\n",
    "\n",
    "plt.imshow(x_all_original, cmap='gray')\n",
    "plt.title('Original')\n",
    "plt.show()"
   ]
  }
 ],
 "metadata": {
  "kernelspec": {
   "display_name": "Python 3",
   "language": "python",
   "name": "python3"
  },
  "language_info": {
   "codemirror_mode": {
    "name": "ipython",
    "version": 3
   },
   "file_extension": ".py",
   "mimetype": "text/x-python",
   "name": "python",
   "nbconvert_exporter": "python",
   "pygments_lexer": "ipython3",
   "version": "3.7.6"
  }
 },
 "nbformat": 4,
 "nbformat_minor": 1
}
